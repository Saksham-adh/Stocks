{
  "nbformat": 4,
  "nbformat_minor": 0,
  "metadata": {
    "colab": {
      "provenance": [],
      "authorship_tag": "ABX9TyPnulw8ltFcs6FKkY9WNGId",
      "include_colab_link": true
    },
    "kernelspec": {
      "name": "python3",
      "display_name": "Python 3"
    },
    "language_info": {
      "name": "python"
    }
  },
  "cells": [
    {
      "cell_type": "markdown",
      "metadata": {
        "id": "view-in-github",
        "colab_type": "text"
      },
      "source": [
        "<a href=\"https://colab.research.google.com/github/Saksham-adh/Stocks/blob/main/STOCK.ipynb\" target=\"_parent\"><img src=\"https://colab.research.google.com/assets/colab-badge.svg\" alt=\"Open In Colab\"/></a>"
      ]
    },
    {
      "cell_type": "code",
      "execution_count": null,
      "metadata": {
        "id": "KZ7t1qwUuDEq"
      },
      "outputs": [],
      "source": [
        "# Step 1: Import necessary libraries\n",
        "import pandas as pd\n",
        "import numpy as np\n",
        "from sklearn.model_selection import train_test_split\n",
        "from sklearn.linear_model import LinearRegression\n",
        "from sklearn.metrics import mean_squared_error\n",
        "import matplotlib.pyplot as plt\n",
        "from sklearn.model_selection import TimeSeriesSplit\n",
        "\n",
        "# Step 2: Load the data\n",
        "data = pd.read_csv('/content/drive/MyDrive/NICA3yr.csv')\n",
        "\n",
        "# Convert the index to a datetime object\n",
        "\n",
        "\n",
        "# Select the required date range\n",
        "start_date = '2020-01-01'\n",
        "end_date = '2023-03-07'\n",
        "data = data.loc[start_date:end_date]\n",
        "\n",
        "# Step 3: Preprocess the data\n",
        "data['Date'] = pd.to_datetime(data['Date'])\n",
        "\n",
        "# Set the 'Date' column as the index\n",
        "data.set_index('Date', inplace=True)\n",
        "\n",
        "# Drop any rows with missing values\n",
        "data.dropna(inplace=True)\n",
        "\n",
        "\n",
        "# Calculate Relative Strength Index (RSI)\n",
        "n = 14 # RSI period\n",
        "delta = data['Close'].diff()\n",
        "gain = delta.where(delta > 0, 0)\n",
        "loss = -delta.where(delta < 0, 0)\n",
        "avg_gain = gain.rolling(window=n).mean()\n",
        "avg_loss = loss.rolling(window=n).mean().abs()\n",
        "rs = avg_gain / avg_loss\n",
        "data['RSI'] = 100 - (100 / (1 + rs))\n",
        "\n",
        "# Step 4: Feature engineering\n",
        "data['Moving Average'] = data['Close'].rolling(window=5).mean()\n",
        "data['High-Low'] = data['High'] - data['Low']\n",
        "data['Difference'] = data['High'] - data['Low']\n",
        "data['MA5'] = data['Close'].rolling(window=5).mean()\n",
        "data['MA10'] = data['Close'].rolling(window=10).mean()\n",
        "\n",
        "features = ['Close', 'Volume', 'Difference', 'MA5', 'MA10', 'RSI']\n",
        "\n",
        "\n",
        "# Step 5: Split the data\n",
        "X = data.drop('Close', axis=1)\n",
        "y = data['Close']\n",
        "tscv = TimeSeriesSplit(n_splits=5)\n",
        "\n",
        "for train_index, test_index in tscv.split(X):\n",
        "    X_train, X_test = X.iloc[train_index], X.iloc[test_index]\n",
        "    y_train, y_test = y.iloc[train_index], y.iloc[test_index]\n",
        "\n",
        "# Step 6: Select a pretrained model\n",
        "model = LinearRegression()\n",
        "\n",
        "# Step 7: Train the model\n",
        "model.fit(X_train, y_train)\n",
        "\n",
        "# Step 8: Evaluate the model\n",
        "y_pred = model.predict(X_test)\n",
        "mse = mean_squared_error(y_test, y_pred)\n",
        "print(f\"Mean Squared Error: {mse}\")\n",
        "\n",
        "# Step 9 :Make predictions\n",
        "future_dates = pd.date_range(start='2023-03-08', end='2023-03-15', freq='B')\n",
        "future_features = data[features].loc[future_dates]\n",
        "future_predictions = model.predict(future_features)\n",
        "\n",
        "# Create a DataFrame of future predictions\n",
        "future_df = pd.DataFrame({\n",
        "    'Date': future_dates,\n",
        "    'Predicted Close Price': future_predictions\n",
        "})\n",
        "\n",
        "# Set the \"Date\" column as the index\n",
        "future_df.set_index('Date', inplace=True)\n",
        "\n",
        "# Step 10: Visualize the results\n",
        "plt.plot(future_data.index, future_y, label='Predicted')\n",
        "plt.plot(future_data.index, future_data['Close'], label='Actual')\n",
        "plt.legend()\n",
        "plt.show()\n"
      ]
    }
  ]
}